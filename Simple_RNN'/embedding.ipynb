{
 "cells": [
  {
   "cell_type": "code",
   "execution_count": 28,
   "metadata": {},
   "outputs": [],
   "source": [
    "from tensorflow.keras.preprocessing.text import one_hot"
   ]
  },
  {
   "cell_type": "code",
   "execution_count": 29,
   "metadata": {},
   "outputs": [],
   "source": [
    "#pip install distutils"
   ]
  },
  {
   "cell_type": "code",
   "execution_count": 30,
   "metadata": {},
   "outputs": [],
   "source": [
    "#pip install tensorflow"
   ]
  },
  {
   "cell_type": "code",
   "execution_count": 31,
   "metadata": {},
   "outputs": [],
   "source": [
    "### sentences\n",
    "sent=[  'the glass of milk',\n",
    "     'the glass of juice',\n",
    "     'the cup of tea',\n",
    "    'I am a good boy',\n",
    "     'I am a good developer',\n",
    "     'understand the meaning of words',\n",
    "     'your videos are good',]"
   ]
  },
  {
   "cell_type": "code",
   "execution_count": 32,
   "metadata": {},
   "outputs": [
    {
     "data": {
      "text/plain": [
       "['the glass of milk',\n",
       " 'the glass of juice',\n",
       " 'the cup of tea',\n",
       " 'I am a good boy',\n",
       " 'I am a good developer',\n",
       " 'understand the meaning of words',\n",
       " 'your videos are good']"
      ]
     },
     "execution_count": 32,
     "metadata": {},
     "output_type": "execute_result"
    }
   ],
   "source": [
    "sent"
   ]
  },
  {
   "cell_type": "code",
   "execution_count": 33,
   "metadata": {},
   "outputs": [],
   "source": [
    "#vocabulary_Size\n",
    "voc_size=10000"
   ]
  },
  {
   "cell_type": "code",
   "execution_count": 34,
   "metadata": {},
   "outputs": [],
   "source": [
    "one_hot_repr=[one_hot(words,voc_size)for words in sent]"
   ]
  },
  {
   "cell_type": "code",
   "execution_count": 35,
   "metadata": {},
   "outputs": [
    {
     "data": {
      "text/plain": [
       "[[7267, 2583, 1365, 9718],\n",
       " [7267, 2583, 1365, 8153],\n",
       " [7267, 2449, 1365, 1203],\n",
       " [6625, 3948, 1585, 7979, 795],\n",
       " [6625, 3948, 1585, 7979, 1059],\n",
       " [3317, 7267, 2612, 1365, 386],\n",
       " [6003, 6226, 2963, 7979]]"
      ]
     },
     "execution_count": 35,
     "metadata": {},
     "output_type": "execute_result"
    }
   ],
   "source": [
    "one_hot_repr"
   ]
  },
  {
   "cell_type": "code",
   "execution_count": 42,
   "metadata": {},
   "outputs": [],
   "source": [
    "from tensorflow.keras.layers import Embedding\n",
    "#from tensorflow.keras.preprocessing.sequence import pad_sequences\n",
    "from tensorflow.keras.utils import pad_sequences\n",
    "from tensorflow.keras.models import Sequential"
   ]
  },
  {
   "cell_type": "code",
   "execution_count": 43,
   "metadata": {},
   "outputs": [],
   "source": [
    "import numpy as np"
   ]
  },
  {
   "cell_type": "code",
   "execution_count": 44,
   "metadata": {},
   "outputs": [
    {
     "data": {
      "text/plain": [
       "array([[   0,    0,    0,    0, 7267, 2583, 1365, 9718],\n",
       "       [   0,    0,    0,    0, 7267, 2583, 1365, 8153],\n",
       "       [   0,    0,    0,    0, 7267, 2449, 1365, 1203],\n",
       "       [   0,    0,    0, 6625, 3948, 1585, 7979,  795],\n",
       "       [   0,    0,    0, 6625, 3948, 1585, 7979, 1059],\n",
       "       [   0,    0,    0, 3317, 7267, 2612, 1365,  386],\n",
       "       [   0,    0,    0,    0, 6003, 6226, 2963, 7979]], dtype=int32)"
      ]
     },
     "execution_count": 44,
     "metadata": {},
     "output_type": "execute_result"
    }
   ],
   "source": [
    "sent_length=8\n",
    "pad_sequences(one_hot_repr,padding='pre',maxlen=sent_length)"
   ]
  },
  {
   "cell_type": "code",
   "execution_count": 49,
   "metadata": {},
   "outputs": [
    {
     "name": "stdout",
     "output_type": "stream",
     "text": [
      "[[   0    0    0    0 7267 2583 1365 9718]\n",
      " [   0    0    0    0 7267 2583 1365 8153]\n",
      " [   0    0    0    0 7267 2449 1365 1203]\n",
      " [   0    0    0 6625 3948 1585 7979  795]\n",
      " [   0    0    0 6625 3948 1585 7979 1059]\n",
      " [   0    0    0 3317 7267 2612 1365  386]\n",
      " [   0    0    0    0 6003 6226 2963 7979]]\n"
     ]
    }
   ],
   "source": [
    "sent_length=8\n",
    "embedded_docs=pad_sequences(one_hot_repr,padding='pre',maxlen=sent_length)\n",
    "print(embedded_docs)"
   ]
  },
  {
   "cell_type": "code",
   "execution_count": 50,
   "metadata": {},
   "outputs": [],
   "source": [
    "## Feature Representation\n",
    "\n",
    "dim=10"
   ]
  },
  {
   "cell_type": "code",
   "execution_count": 51,
   "metadata": {},
   "outputs": [
    {
     "name": "stderr",
     "output_type": "stream",
     "text": [
      "/Library/Frameworks/Python.framework/Versions/3.12/lib/python3.12/site-packages/keras/src/layers/core/embedding.py:90: UserWarning: Argument `input_length` is deprecated. Just remove it.\n",
      "  warnings.warn(\n"
     ]
    }
   ],
   "source": []
  },
  {
   "cell_type": "code",
   "execution_count": 54,
   "metadata": {},
   "outputs": [],
   "source": [
    "model=Sequential()\n",
    "model.add(Embedding(voc_size,dim,input_length=sent_length))\n",
    "model.compile('adam','mse')"
   ]
  },
  {
   "cell_type": "code",
   "execution_count": 55,
   "metadata": {},
   "outputs": [
    {
     "data": {
      "text/html": [
       "<pre style=\"white-space:pre;overflow-x:auto;line-height:normal;font-family:Menlo,'DejaVu Sans Mono',consolas,'Courier New',monospace\"><span style=\"font-weight: bold\">Model: \"sequential_6\"</span>\n",
       "</pre>\n"
      ],
      "text/plain": [
       "\u001b[1mModel: \"sequential_6\"\u001b[0m\n"
      ]
     },
     "metadata": {},
     "output_type": "display_data"
    },
    {
     "data": {
      "text/html": [
       "<pre style=\"white-space:pre;overflow-x:auto;line-height:normal;font-family:Menlo,'DejaVu Sans Mono',consolas,'Courier New',monospace\">┏━━━━━━━━━━━━━━━━━━━━━━━━━━━━━━━━━┳━━━━━━━━━━━━━━━━━━━━━━━━┳━━━━━━━━━━━━━━━┓\n",
       "┃<span style=\"font-weight: bold\"> Layer (type)                    </span>┃<span style=\"font-weight: bold\"> Output Shape           </span>┃<span style=\"font-weight: bold\">       Param # </span>┃\n",
       "┡━━━━━━━━━━━━━━━━━━━━━━━━━━━━━━━━━╇━━━━━━━━━━━━━━━━━━━━━━━━╇━━━━━━━━━━━━━━━┩\n",
       "│ embedding_6 (<span style=\"color: #0087ff; text-decoration-color: #0087ff\">Embedding</span>)         │ ?                      │   <span style=\"color: #00af00; text-decoration-color: #00af00\">0</span> (unbuilt) │\n",
       "└─────────────────────────────────┴────────────────────────┴───────────────┘\n",
       "</pre>\n"
      ],
      "text/plain": [
       "┏━━━━━━━━━━━━━━━━━━━━━━━━━━━━━━━━━┳━━━━━━━━━━━━━━━━━━━━━━━━┳━━━━━━━━━━━━━━━┓\n",
       "┃\u001b[1m \u001b[0m\u001b[1mLayer (type)                   \u001b[0m\u001b[1m \u001b[0m┃\u001b[1m \u001b[0m\u001b[1mOutput Shape          \u001b[0m\u001b[1m \u001b[0m┃\u001b[1m \u001b[0m\u001b[1m      Param #\u001b[0m\u001b[1m \u001b[0m┃\n",
       "┡━━━━━━━━━━━━━━━━━━━━━━━━━━━━━━━━━╇━━━━━━━━━━━━━━━━━━━━━━━━╇━━━━━━━━━━━━━━━┩\n",
       "│ embedding_6 (\u001b[38;5;33mEmbedding\u001b[0m)         │ ?                      │   \u001b[38;5;34m0\u001b[0m (unbuilt) │\n",
       "└─────────────────────────────────┴────────────────────────┴───────────────┘\n"
      ]
     },
     "metadata": {},
     "output_type": "display_data"
    },
    {
     "data": {
      "text/html": [
       "<pre style=\"white-space:pre;overflow-x:auto;line-height:normal;font-family:Menlo,'DejaVu Sans Mono',consolas,'Courier New',monospace\"><span style=\"font-weight: bold\"> Total params: </span><span style=\"color: #00af00; text-decoration-color: #00af00\">0</span> (0.00 B)\n",
       "</pre>\n"
      ],
      "text/plain": [
       "\u001b[1m Total params: \u001b[0m\u001b[38;5;34m0\u001b[0m (0.00 B)\n"
      ]
     },
     "metadata": {},
     "output_type": "display_data"
    },
    {
     "data": {
      "text/html": [
       "<pre style=\"white-space:pre;overflow-x:auto;line-height:normal;font-family:Menlo,'DejaVu Sans Mono',consolas,'Courier New',monospace\"><span style=\"font-weight: bold\"> Trainable params: </span><span style=\"color: #00af00; text-decoration-color: #00af00\">0</span> (0.00 B)\n",
       "</pre>\n"
      ],
      "text/plain": [
       "\u001b[1m Trainable params: \u001b[0m\u001b[38;5;34m0\u001b[0m (0.00 B)\n"
      ]
     },
     "metadata": {},
     "output_type": "display_data"
    },
    {
     "data": {
      "text/html": [
       "<pre style=\"white-space:pre;overflow-x:auto;line-height:normal;font-family:Menlo,'DejaVu Sans Mono',consolas,'Courier New',monospace\"><span style=\"font-weight: bold\"> Non-trainable params: </span><span style=\"color: #00af00; text-decoration-color: #00af00\">0</span> (0.00 B)\n",
       "</pre>\n"
      ],
      "text/plain": [
       "\u001b[1m Non-trainable params: \u001b[0m\u001b[38;5;34m0\u001b[0m (0.00 B)\n"
      ]
     },
     "metadata": {},
     "output_type": "display_data"
    }
   ],
   "source": [
    "model.summary()"
   ]
  },
  {
   "cell_type": "code",
   "execution_count": 56,
   "metadata": {},
   "outputs": [
    {
     "name": "stdout",
     "output_type": "stream",
     "text": [
      "\u001b[1m1/1\u001b[0m \u001b[32m━━━━━━━━━━━━━━━━━━━━\u001b[0m\u001b[37m\u001b[0m \u001b[1m0s\u001b[0m 52ms/step\n"
     ]
    },
    {
     "data": {
      "text/plain": [
       "array([[[-0.03083037,  0.04064823, -0.00095856, -0.02312158,\n",
       "          0.04454166, -0.03484613,  0.02998276,  0.03305704,\n",
       "          0.01654543,  0.02481605],\n",
       "        [-0.03083037,  0.04064823, -0.00095856, -0.02312158,\n",
       "          0.04454166, -0.03484613,  0.02998276,  0.03305704,\n",
       "          0.01654543,  0.02481605],\n",
       "        [-0.03083037,  0.04064823, -0.00095856, -0.02312158,\n",
       "          0.04454166, -0.03484613,  0.02998276,  0.03305704,\n",
       "          0.01654543,  0.02481605],\n",
       "        [-0.03083037,  0.04064823, -0.00095856, -0.02312158,\n",
       "          0.04454166, -0.03484613,  0.02998276,  0.03305704,\n",
       "          0.01654543,  0.02481605],\n",
       "        [ 0.04112751,  0.04611852,  0.0431857 , -0.0065329 ,\n",
       "          0.01467087,  0.03578648,  0.01059574,  0.00093077,\n",
       "         -0.02016157,  0.00339497],\n",
       "        [ 0.03146614,  0.03935382,  0.04063727, -0.0080515 ,\n",
       "         -0.03142133,  0.03225925,  0.01803682, -0.04322488,\n",
       "         -0.0087657 , -0.03672918],\n",
       "        [ 0.02588635, -0.0051272 , -0.02972577,  0.04976634,\n",
       "         -0.04676522,  0.04009176,  0.02491082, -0.00795591,\n",
       "          0.00857455, -0.02303691],\n",
       "        [ 0.00157888, -0.00738854,  0.00388162, -0.01434112,\n",
       "         -0.00919561,  0.02931109, -0.03930841, -0.03582486,\n",
       "         -0.03441973, -0.04951433]],\n",
       "\n",
       "       [[-0.03083037,  0.04064823, -0.00095856, -0.02312158,\n",
       "          0.04454166, -0.03484613,  0.02998276,  0.03305704,\n",
       "          0.01654543,  0.02481605],\n",
       "        [-0.03083037,  0.04064823, -0.00095856, -0.02312158,\n",
       "          0.04454166, -0.03484613,  0.02998276,  0.03305704,\n",
       "          0.01654543,  0.02481605],\n",
       "        [-0.03083037,  0.04064823, -0.00095856, -0.02312158,\n",
       "          0.04454166, -0.03484613,  0.02998276,  0.03305704,\n",
       "          0.01654543,  0.02481605],\n",
       "        [-0.03083037,  0.04064823, -0.00095856, -0.02312158,\n",
       "          0.04454166, -0.03484613,  0.02998276,  0.03305704,\n",
       "          0.01654543,  0.02481605],\n",
       "        [ 0.04112751,  0.04611852,  0.0431857 , -0.0065329 ,\n",
       "          0.01467087,  0.03578648,  0.01059574,  0.00093077,\n",
       "         -0.02016157,  0.00339497],\n",
       "        [ 0.03146614,  0.03935382,  0.04063727, -0.0080515 ,\n",
       "         -0.03142133,  0.03225925,  0.01803682, -0.04322488,\n",
       "         -0.0087657 , -0.03672918],\n",
       "        [ 0.02588635, -0.0051272 , -0.02972577,  0.04976634,\n",
       "         -0.04676522,  0.04009176,  0.02491082, -0.00795591,\n",
       "          0.00857455, -0.02303691],\n",
       "        [-0.01583036,  0.01664516,  0.04645381, -0.03644403,\n",
       "         -0.02815415,  0.00759422, -0.01697315, -0.01271744,\n",
       "         -0.04320383,  0.02145601]],\n",
       "\n",
       "       [[-0.03083037,  0.04064823, -0.00095856, -0.02312158,\n",
       "          0.04454166, -0.03484613,  0.02998276,  0.03305704,\n",
       "          0.01654543,  0.02481605],\n",
       "        [-0.03083037,  0.04064823, -0.00095856, -0.02312158,\n",
       "          0.04454166, -0.03484613,  0.02998276,  0.03305704,\n",
       "          0.01654543,  0.02481605],\n",
       "        [-0.03083037,  0.04064823, -0.00095856, -0.02312158,\n",
       "          0.04454166, -0.03484613,  0.02998276,  0.03305704,\n",
       "          0.01654543,  0.02481605],\n",
       "        [-0.03083037,  0.04064823, -0.00095856, -0.02312158,\n",
       "          0.04454166, -0.03484613,  0.02998276,  0.03305704,\n",
       "          0.01654543,  0.02481605],\n",
       "        [ 0.04112751,  0.04611852,  0.0431857 , -0.0065329 ,\n",
       "          0.01467087,  0.03578648,  0.01059574,  0.00093077,\n",
       "         -0.02016157,  0.00339497],\n",
       "        [-0.01854984,  0.0442752 ,  0.03561858,  0.04802242,\n",
       "         -0.04372789,  0.02641996, -0.01989713, -0.04776192,\n",
       "         -0.01321386,  0.03272075],\n",
       "        [ 0.02588635, -0.0051272 , -0.02972577,  0.04976634,\n",
       "         -0.04676522,  0.04009176,  0.02491082, -0.00795591,\n",
       "          0.00857455, -0.02303691],\n",
       "        [-0.04957333, -0.03314879, -0.03149332, -0.01446819,\n",
       "          0.04656246,  0.02833723,  0.00814314,  0.02216908,\n",
       "         -0.02086179,  0.03726131]],\n",
       "\n",
       "       [[-0.03083037,  0.04064823, -0.00095856, -0.02312158,\n",
       "          0.04454166, -0.03484613,  0.02998276,  0.03305704,\n",
       "          0.01654543,  0.02481605],\n",
       "        [-0.03083037,  0.04064823, -0.00095856, -0.02312158,\n",
       "          0.04454166, -0.03484613,  0.02998276,  0.03305704,\n",
       "          0.01654543,  0.02481605],\n",
       "        [-0.03083037,  0.04064823, -0.00095856, -0.02312158,\n",
       "          0.04454166, -0.03484613,  0.02998276,  0.03305704,\n",
       "          0.01654543,  0.02481605],\n",
       "        [ 0.01174993, -0.0118222 , -0.03596451,  0.02675885,\n",
       "          0.00806501, -0.01161684,  0.01440442, -0.00146413,\n",
       "         -0.00333567, -0.04155504],\n",
       "        [ 0.00300794, -0.03787971,  0.0401986 ,  0.03918568,\n",
       "         -0.03032204, -0.01917164,  0.00845321,  0.03139198,\n",
       "          0.0433094 ,  0.01583287],\n",
       "        [ 0.04235696, -0.00785112,  0.02752398,  0.00966326,\n",
       "         -0.02210958, -0.02224121, -0.01833578,  0.04261304,\n",
       "          0.02156046,  0.0470547 ],\n",
       "        [ 0.04440436, -0.03318669, -0.03274005, -0.02459618,\n",
       "          0.00369598, -0.04692864, -0.00645039,  0.02282697,\n",
       "          0.01161819,  0.02157717],\n",
       "        [-0.02603897, -0.04778632, -0.04664217, -0.04451841,\n",
       "         -0.0293376 ,  0.0474981 ,  0.03196236, -0.01206758,\n",
       "          0.012097  ,  0.03557788]],\n",
       "\n",
       "       [[-0.03083037,  0.04064823, -0.00095856, -0.02312158,\n",
       "          0.04454166, -0.03484613,  0.02998276,  0.03305704,\n",
       "          0.01654543,  0.02481605],\n",
       "        [-0.03083037,  0.04064823, -0.00095856, -0.02312158,\n",
       "          0.04454166, -0.03484613,  0.02998276,  0.03305704,\n",
       "          0.01654543,  0.02481605],\n",
       "        [-0.03083037,  0.04064823, -0.00095856, -0.02312158,\n",
       "          0.04454166, -0.03484613,  0.02998276,  0.03305704,\n",
       "          0.01654543,  0.02481605],\n",
       "        [ 0.01174993, -0.0118222 , -0.03596451,  0.02675885,\n",
       "          0.00806501, -0.01161684,  0.01440442, -0.00146413,\n",
       "         -0.00333567, -0.04155504],\n",
       "        [ 0.00300794, -0.03787971,  0.0401986 ,  0.03918568,\n",
       "         -0.03032204, -0.01917164,  0.00845321,  0.03139198,\n",
       "          0.0433094 ,  0.01583287],\n",
       "        [ 0.04235696, -0.00785112,  0.02752398,  0.00966326,\n",
       "         -0.02210958, -0.02224121, -0.01833578,  0.04261304,\n",
       "          0.02156046,  0.0470547 ],\n",
       "        [ 0.04440436, -0.03318669, -0.03274005, -0.02459618,\n",
       "          0.00369598, -0.04692864, -0.00645039,  0.02282697,\n",
       "          0.01161819,  0.02157717],\n",
       "        [ 0.0343486 , -0.03504168,  0.01148242,  0.03081092,\n",
       "         -0.01100359,  0.02836164, -0.00443555, -0.04509383,\n",
       "          0.00246046, -0.04339189]],\n",
       "\n",
       "       [[-0.03083037,  0.04064823, -0.00095856, -0.02312158,\n",
       "          0.04454166, -0.03484613,  0.02998276,  0.03305704,\n",
       "          0.01654543,  0.02481605],\n",
       "        [-0.03083037,  0.04064823, -0.00095856, -0.02312158,\n",
       "          0.04454166, -0.03484613,  0.02998276,  0.03305704,\n",
       "          0.01654543,  0.02481605],\n",
       "        [-0.03083037,  0.04064823, -0.00095856, -0.02312158,\n",
       "          0.04454166, -0.03484613,  0.02998276,  0.03305704,\n",
       "          0.01654543,  0.02481605],\n",
       "        [-0.04490827,  0.03320445,  0.04203695, -0.04263737,\n",
       "          0.0417514 , -0.03844727, -0.04981887, -0.01950091,\n",
       "         -0.01965274,  0.03155902],\n",
       "        [ 0.04112751,  0.04611852,  0.0431857 , -0.0065329 ,\n",
       "          0.01467087,  0.03578648,  0.01059574,  0.00093077,\n",
       "         -0.02016157,  0.00339497],\n",
       "        [ 0.02093155, -0.01673616, -0.04798776, -0.04064993,\n",
       "         -0.00167209, -0.01719182, -0.02274813,  0.01632062,\n",
       "          0.00657295, -0.04975592],\n",
       "        [ 0.02588635, -0.0051272 , -0.02972577,  0.04976634,\n",
       "         -0.04676522,  0.04009176,  0.02491082, -0.00795591,\n",
       "          0.00857455, -0.02303691],\n",
       "        [ 0.03978825,  0.02210978, -0.04192685, -0.04174217,\n",
       "          0.02551376, -0.00754283,  0.01355461,  0.01389638,\n",
       "         -0.04355264, -0.03416374]],\n",
       "\n",
       "       [[-0.03083037,  0.04064823, -0.00095856, -0.02312158,\n",
       "          0.04454166, -0.03484613,  0.02998276,  0.03305704,\n",
       "          0.01654543,  0.02481605],\n",
       "        [-0.03083037,  0.04064823, -0.00095856, -0.02312158,\n",
       "          0.04454166, -0.03484613,  0.02998276,  0.03305704,\n",
       "          0.01654543,  0.02481605],\n",
       "        [-0.03083037,  0.04064823, -0.00095856, -0.02312158,\n",
       "          0.04454166, -0.03484613,  0.02998276,  0.03305704,\n",
       "          0.01654543,  0.02481605],\n",
       "        [-0.03083037,  0.04064823, -0.00095856, -0.02312158,\n",
       "          0.04454166, -0.03484613,  0.02998276,  0.03305704,\n",
       "          0.01654543,  0.02481605],\n",
       "        [ 0.04197185,  0.01280233, -0.03117846,  0.02611798,\n",
       "          0.04438342,  0.03749807, -0.0426741 , -0.04773309,\n",
       "          0.00423952, -0.0201283 ],\n",
       "        [ 0.03115408, -0.03579503, -0.01926883,  0.00301804,\n",
       "          0.01250789,  0.01034867,  0.02603099,  0.00053331,\n",
       "         -0.04387082, -0.00932755],\n",
       "        [-0.01681887,  0.02477909, -0.04172785, -0.03720624,\n",
       "          0.03744836, -0.01338748,  0.04649219, -0.02245359,\n",
       "         -0.03352308,  0.02988055],\n",
       "        [ 0.04440436, -0.03318669, -0.03274005, -0.02459618,\n",
       "          0.00369598, -0.04692864, -0.00645039,  0.02282697,\n",
       "          0.01161819,  0.02157717]]], dtype=float32)"
      ]
     },
     "execution_count": 56,
     "metadata": {},
     "output_type": "execute_result"
    }
   ],
   "source": [
    "model.predict(embedded_docs)"
   ]
  },
  {
   "cell_type": "code",
   "execution_count": 57,
   "metadata": {},
   "outputs": [
    {
     "data": {
      "text/plain": [
       "array([   0,    0,    0,    0, 7267, 2583, 1365, 9718], dtype=int32)"
      ]
     },
     "execution_count": 57,
     "metadata": {},
     "output_type": "execute_result"
    }
   ],
   "source": [
    "embedded_docs[0]"
   ]
  },
  {
   "cell_type": "code",
   "execution_count": 58,
   "metadata": {},
   "outputs": [
    {
     "ename": "ValueError",
     "evalue": "Exception encountered when calling Sequential.call().\n\n\u001b[1mCannot take the length of shape with unknown rank.\u001b[0m\n\nArguments received by Sequential.call():\n  • inputs=tf.Tensor(shape=<unknown>, dtype=int32)\n  • training=False\n  • mask=None",
     "output_type": "error",
     "traceback": [
      "\u001b[0;31m---------------------------------------------------------------------------\u001b[0m",
      "\u001b[0;31mValueError\u001b[0m                                Traceback (most recent call last)",
      "Cell \u001b[0;32mIn[58], line 1\u001b[0m\n\u001b[0;32m----> 1\u001b[0m \u001b[43mmodel\u001b[49m\u001b[38;5;241;43m.\u001b[39;49m\u001b[43mpredict\u001b[49m\u001b[43m(\u001b[49m\u001b[43membedded_docs\u001b[49m\u001b[43m[\u001b[49m\u001b[38;5;241;43m0\u001b[39;49m\u001b[43m]\u001b[49m\u001b[43m)\u001b[49m\n",
      "File \u001b[0;32m/Library/Frameworks/Python.framework/Versions/3.12/lib/python3.12/site-packages/keras/src/utils/traceback_utils.py:122\u001b[0m, in \u001b[0;36mfilter_traceback.<locals>.error_handler\u001b[0;34m(*args, **kwargs)\u001b[0m\n\u001b[1;32m    119\u001b[0m     filtered_tb \u001b[38;5;241m=\u001b[39m _process_traceback_frames(e\u001b[38;5;241m.\u001b[39m__traceback__)\n\u001b[1;32m    120\u001b[0m     \u001b[38;5;66;03m# To get the full stack trace, call:\u001b[39;00m\n\u001b[1;32m    121\u001b[0m     \u001b[38;5;66;03m# `keras.config.disable_traceback_filtering()`\u001b[39;00m\n\u001b[0;32m--> 122\u001b[0m     \u001b[38;5;28;01mraise\u001b[39;00m e\u001b[38;5;241m.\u001b[39mwith_traceback(filtered_tb) \u001b[38;5;28;01mfrom\u001b[39;00m \u001b[38;5;28;01mNone\u001b[39;00m\n\u001b[1;32m    123\u001b[0m \u001b[38;5;28;01mfinally\u001b[39;00m:\n\u001b[1;32m    124\u001b[0m     \u001b[38;5;28;01mdel\u001b[39;00m filtered_tb\n",
      "File \u001b[0;32m/Library/Frameworks/Python.framework/Versions/3.12/lib/python3.12/site-packages/keras/src/utils/traceback_utils.py:122\u001b[0m, in \u001b[0;36mfilter_traceback.<locals>.error_handler\u001b[0;34m(*args, **kwargs)\u001b[0m\n\u001b[1;32m    119\u001b[0m     filtered_tb \u001b[38;5;241m=\u001b[39m _process_traceback_frames(e\u001b[38;5;241m.\u001b[39m__traceback__)\n\u001b[1;32m    120\u001b[0m     \u001b[38;5;66;03m# To get the full stack trace, call:\u001b[39;00m\n\u001b[1;32m    121\u001b[0m     \u001b[38;5;66;03m# `keras.config.disable_traceback_filtering()`\u001b[39;00m\n\u001b[0;32m--> 122\u001b[0m     \u001b[38;5;28;01mraise\u001b[39;00m e\u001b[38;5;241m.\u001b[39mwith_traceback(filtered_tb) \u001b[38;5;28;01mfrom\u001b[39;00m \u001b[38;5;28;01mNone\u001b[39;00m\n\u001b[1;32m    123\u001b[0m \u001b[38;5;28;01mfinally\u001b[39;00m:\n\u001b[1;32m    124\u001b[0m     \u001b[38;5;28;01mdel\u001b[39;00m filtered_tb\n",
      "\u001b[0;31mValueError\u001b[0m: Exception encountered when calling Sequential.call().\n\n\u001b[1mCannot take the length of shape with unknown rank.\u001b[0m\n\nArguments received by Sequential.call():\n  • inputs=tf.Tensor(shape=<unknown>, dtype=int32)\n  • training=False\n  • mask=None"
     ]
    }
   ],
   "source": [
    "model.predict(embedded_docs[0])"
   ]
  },
  {
   "cell_type": "code",
   "execution_count": null,
   "metadata": {},
   "outputs": [],
   "source": []
  }
 ],
 "metadata": {
  "kernelspec": {
   "display_name": "Python 3",
   "language": "python",
   "name": "python3"
  },
  "language_info": {
   "codemirror_mode": {
    "name": "ipython",
    "version": 3
   },
   "file_extension": ".py",
   "mimetype": "text/x-python",
   "name": "python",
   "nbconvert_exporter": "python",
   "pygments_lexer": "ipython3",
   "version": "3.12.1"
  }
 },
 "nbformat": 4,
 "nbformat_minor": 2
}
